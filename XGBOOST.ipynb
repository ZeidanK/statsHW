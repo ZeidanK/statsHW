{
 "cells": [
  {
   "cell_type": "code",
   "execution_count": null,
   "id": "659cf45f",
   "metadata": {},
   "outputs": [],
   "source": []
  },
  {
   "cell_type": "code",
   "execution_count": 7,
   "id": "8895d1a7",
   "metadata": {},
   "outputs": [],
   "source": [
    "from sklearn.datasets import load_iris\n",
    "from sklearn.model_selection import train_test_split\n",
    "\n",
    "# Load the dataset\n",
    "iris = load_iris()\n",
    "\n",
    "# Features and labels\n",
    "X = iris.data         # shape (150, 4)\n",
    "y = iris.target       # shape (150,)\n",
    "\n",
    "# Split into train and test sets\n",
    "X_train, X_test, y_train, y_test = train_test_split(X, y, random_state=1)\n",
    "\n",
    "# Now we can use X_train, X_test, y_train, y_test with your model"
   ]
  },
  {
   "cell_type": "code",
   "execution_count": 8,
   "id": "ce7746b5",
   "metadata": {},
   "outputs": [
    {
     "data": {
      "text/plain": [
       "0.9473684210526315"
      ]
     },
     "execution_count": 8,
     "metadata": {},
     "output_type": "execute_result"
    }
   ],
   "source": [
    "\n",
    "from sklearn.ensemble import AdaBoostClassifier\n",
    "import xgboost as xgb\n",
    "# Create and fit the model\n",
    "model=xgb.XGBClassifier(random_state=1,learning_rate=0.01)\n",
    "# Fit the model training data\n",
    "model.fit(X_train, y_train)\n",
    "# Evaluate the model on the test data\n",
    "model.score(X_test,y_test)\n",
    "\n"
   ]
  }
 ],
 "metadata": {
  "kernelspec": {
   "display_name": ".venv",
   "language": "python",
   "name": "python3"
  },
  "language_info": {
   "codemirror_mode": {
    "name": "ipython",
    "version": 3
   },
   "file_extension": ".py",
   "mimetype": "text/x-python",
   "name": "python",
   "nbconvert_exporter": "python",
   "pygments_lexer": "ipython3",
   "version": "3.12.3"
  }
 },
 "nbformat": 4,
 "nbformat_minor": 5
}
