{
 "cells": [
  {
   "cell_type": "markdown",
   "id": "551f0400",
   "metadata": {},
   "source": [
    "second part of the hw"
   ]
  },
  {
   "cell_type": "code",
   "execution_count": 8,
   "id": "6f8ec311",
   "metadata": {},
   "outputs": [
    {
     "data": {
      "text/plain": [
       "np.float64(1.0)"
      ]
     },
     "execution_count": 8,
     "metadata": {},
     "output_type": "execute_result"
    }
   ],
   "source": [
    "import numpy as np\n",
    "\n",
    "a=[28,32,25,27,40,39,35,30]\n",
    "\n",
    "my = 41\n",
    "\n",
    "av=np.average(a)\n",
    "\n",
    "x=np.empty(1000)\n",
    "for i in range(0,1000):\n",
    "    y=np.random.choice(a,size=np.size(a))\n",
    "    x[i]=np.average(y)\n",
    "np.sum(x<my)/1000\n",
    " "
   ]
  }
 ],
 "metadata": {
  "kernelspec": {
   "display_name": ".venv",
   "language": "python",
   "name": "python3"
  },
  "language_info": {
   "codemirror_mode": {
    "name": "ipython",
    "version": 3
   },
   "file_extension": ".py",
   "mimetype": "text/x-python",
   "name": "python",
   "nbconvert_exporter": "python",
   "pygments_lexer": "ipython3",
   "version": "3.12.3"
  }
 },
 "nbformat": 4,
 "nbformat_minor": 5
}
