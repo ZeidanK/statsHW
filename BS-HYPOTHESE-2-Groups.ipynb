{
 "cells": [
  {
   "cell_type": "markdown",
   "id": "f729868a",
   "metadata": {},
   "source": [
    "not paired groups"
   ]
  },
  {
   "cell_type": "code",
   "execution_count": 1,
   "id": "bd5cca7f",
   "metadata": {},
   "outputs": [
    {
     "data": {
      "text/plain": [
       "np.float64(0.226)"
      ]
     },
     "execution_count": 1,
     "metadata": {},
     "output_type": "execute_result"
    }
   ],
   "source": [
    "import numpy as np\n",
    "\n",
    "v=[80, 30 ,75, 90, 57, 72]\n",
    "nv=[61, 98, 92, 55, 47, 99]\n",
    "\n",
    "diff = np.average(nv)-np.average(v)\n",
    "\n",
    "all = v+nv\n",
    "\n",
    "x= np.empty(1000)\n",
    "for i in range(0,1000):\n",
    "    y1=np.random.choice(all, size=np.size(v))\n",
    "    y2=np.random.choice(all, size=np.size(nv))\n",
    "\n",
    "    x[i]=np.average(y2)-np.average(y1) # must match the diff (nv-v)\n",
    "\n",
    "np.sum(x>=diff)/1000"
   ]
  },
  {
   "cell_type": "markdown",
   "id": "f5e21d78",
   "metadata": {},
   "source": [
    "The term **\"קבוצות מזווגות\"** (paired groups) refers to groups where each element in one group has a direct counterpart in the other group. This is common in scenarios like before-and-after measurements, where each individual or subject is measured twice (once for each condition). In contrast, **\"קבוצות לא מזווגות\"** (unpaired groups) are independent, meaning there is no direct relationship between the elements of the two groups.\n",
    "\n",
    "### Explanation of the Current Code\n",
    "The current code assumes **unpaired groups** (`v` and `nv`). It treats the two groups as independent and pools their data into a single list (`all`) for the permutation test. Random samples are drawn independently for each group (`y1` and `y2`) to simulate the null hypothesis.\n",
    "\n",
    "### What Changes Are Needed for Paired Groups?\n",
    "If the groups were **paired**, the analysis would need to account for the pairing. Instead of comparing the averages of the two groups independently, you would calculate the difference for each pair and analyze the distribution of these differences. Here's how the code would change:\n",
    "\n",
    "1. **Calculate Pairwise Differences**:\n",
    "   Instead of pooling the data, compute the difference for each pair: `pairwise_diff = [nv[i] - v[i] for i in range(len(v))]`.\n",
    "\n",
    "2. **Permutation Test on Pairwise Differences**:\n",
    "   Shuffle the signs of the pairwise differences (instead of shuffling the data itself) to simulate the null hypothesis.\n",
    "\n",
    "### Modified Code for Paired Groups\n",
    "```python\n",
    "import numpy as np\n",
    "\n",
    "v = [80, 30, 75, 90, 57, 72]\n",
    "nv = [61, 98, 92, 55, 47, 99]\n",
    "\n",
    "# Calculate pairwise differences\n",
    "pairwise_diff = [nv[i] - v[i] for i in range(len(v))]\n",
    "observed_diff = np.average(pairwise_diff)\n",
    "\n",
    "# Permutation test: shuffle signs of differences\n",
    "x = np.empty(1000)\n",
    "for i in range(1000):\n",
    "    shuffled_diff = [d * np.random.choice([-1, 1]) for d in pairwise_diff]\n",
    "    x[i] = np.average(shuffled_diff)\n",
    "\n",
    "# Calculate p-value\n",
    "p_value = np.sum(x >= observed_diff) / 1000\n",
    "print(\"P-value:\", p_value)\n",
    "```\n",
    "\n",
    "### Key Differences in the Paired Approach\n",
    "1. **Pairwise Differences**: The analysis focuses on the differences between paired elements, rather than treating the groups as independent.\n",
    "2. **Shuffling Signs**: Instead of shuffling the data, the signs of the differences are shuffled to simulate the null hypothesis.\n",
    "3. **Preservation of Pairing**: The pairing structure is maintained throughout the analysis.\n",
    "\n",
    "This approach is appropriate for paired data because it accounts for the dependency between the two groups."
   ]
  },
  {
   "cell_type": "code",
   "execution_count": 2,
   "id": "482f54e2",
   "metadata": {},
   "outputs": [
    {
     "name": "stdout",
     "output_type": "stream",
     "text": [
      "P-value: 0.355\n"
     ]
    }
   ],
   "source": [
    "import numpy as np\n",
    "\n",
    "v = [80, 30, 75, 90, 57, 72]\n",
    "nv = [61, 98, 92, 55, 47, 99]\n",
    "\n",
    "# Calculate pairwise differences\n",
    "pairwise_diff = [nv[i] - v[i] for i in range(len(v))]\n",
    "observed_diff = np.average(pairwise_diff)\n",
    "\n",
    "# Permutation test: shuffle signs of differences\n",
    "x = np.empty(1000)\n",
    "for i in range(1000):\n",
    "    shuffled_diff = [d * np.random.choice([-1, 1]) for d in pairwise_diff]\n",
    "    x[i] = np.average(shuffled_diff)\n",
    "\n",
    "# Calculate p-value\n",
    "p_value = np.sum(x >= observed_diff) / 1000\n",
    "print(\"P-value:\", p_value)"
   ]
  },
  {
   "cell_type": "markdown",
   "id": "589f1136",
   "metadata": {},
   "source": [
    "The slide from your lecture describes a general approach for **paired hypothesis testing** using bootstrapping. Here's how it relates to the code and what adjustments are needed to align the code with the lecture's steps:\n",
    "\n",
    "### Lecture Steps for Paired Hypothesis Testing:\n",
    "1. **Calculate the Differences**:\n",
    "   - Compute the difference `d = x - y` for each pair of values in the two groups.\n",
    "   - Then calculate the mean of these differences (`mean_diff`).\n",
    "\n",
    "2. **Bootstrap the Differences**:\n",
    "   - Perform 1,000 iterations (or more) of bootstrapping by resampling the differences with replacement.\n",
    "   - For each iteration, calculate the mean of the resampled differences to create a bootstrap distribution of means.\n",
    "\n",
    "3. **Compare the Observed Mean to the Bootstrap Distribution**:\n",
    "   - Determine where the actual mean difference (`mean_diff`) lies within the bootstrap distribution.\n",
    "   - This is used to calculate the p-value, which quantifies the likelihood of observing the actual mean difference under the null hypothesis.\n",
    "\n",
    "---\n",
    "\n",
    "### How to Modify the Code to Match the Lecture Steps:\n",
    "The current code already calculates pairwise differences and uses a permutation test by shuffling signs. To follow the lecture's approach, you would instead **bootstrap the differences** by resampling them with replacement. Here's the modified code:\n",
    "\n",
    "```python\n",
    "import numpy as np\n",
    "\n",
    "# Paired data\n",
    "v = [80, 30, 75, 90, 57, 72]\n",
    "nv = [61, 98, 92, 55, 47, 99]\n",
    "\n",
    "# Step 1: Calculate the differences and the observed mean difference\n",
    "pairwise_diff = [nv[i] - v[i] for i in range(len(v))]\n",
    "observed_mean_diff = np.mean(pairwise_diff)\n",
    "\n",
    "# Step 2: Bootstrap the differences\n",
    "bootstrap_means = np.empty(1000)\n",
    "for i in range(1000):\n",
    "    # Resample the differences with replacement\n",
    "    resampled_diff = np.random.choice(pairwise_diff, size=len(pairwise_diff), replace=True)\n",
    "    # Calculate the mean of the resampled differences\n",
    "    bootstrap_means[i] = np.mean(resampled_diff)\n",
    "\n",
    "# Step 3: Calculate the p-value\n",
    "# Find the proportion of bootstrap means greater than or equal to the observed mean difference\n",
    "p_value = np.sum(bootstrap_means >= observed_mean_diff) / 1000\n",
    "\n",
    "print(\"Observed Mean Difference:\", observed_mean_diff)\n",
    "print(\"P-value:\", p_value)\n",
    "```\n",
    "\n",
    "---\n",
    "\n",
    "### Key Differences Between the Lecture Approach and the Current Code:\n",
    "1. **Resampling Method**:\n",
    "   - The lecture approach uses **bootstrapping** (resampling with replacement) to create the distribution of mean differences.\n",
    "   - The current code uses **permutation testing** (shuffling signs) to simulate the null hypothesis.\n",
    "\n",
    "2. **Focus on Differences**:\n",
    "   - The lecture approach directly bootstraps the differences (`d = x - y`).\n",
    "   - The current code indirectly tests the differences by flipping their signs.\n",
    "\n",
    "3. **P-value Calculation**:\n",
    "   - Both approaches calculate the p-value by comparing the observed mean difference to the simulated distribution, but the methods for generating the distribution differ.\n",
    "\n",
    "---\n",
    "\n",
    "### When to Use Each Approach:\n",
    "- **Lecture Approach (Bootstrapping)**: Use when you want to directly resample the observed differences to estimate the null distribution.\n",
    "- **Current Code (Permutation Testing)**: Use when you want to test the null hypothesis by assuming the signs of the differences are interchangeable.\n",
    "\n",
    "Both methods are valid for paired hypothesis testing, but the choice depends on the specific assumptions and goals of your analysis."
   ]
  },
  {
   "cell_type": "code",
   "execution_count": null,
   "id": "1de417ed",
   "metadata": {},
   "outputs": [
    {
     "name": "stdout",
     "output_type": "stream",
     "text": [
      "Observed Mean Difference: 8.0\n",
      "P-value: 0.485\n"
     ]
    },
    {
     "data": {
      "image/png": "[encoded data removed]",
      "text/plain": [
       "<Figure size 640x480 with 1 Axes>"
      ]
     },
     "metadata": {},
     "output_type": "display_data"
    },
    {
     "name": "stdout",
     "output_type": "stream",
     "text": [
      "Number of bootstrap means ≥ 8.0: 485\n",
      "One-tailed p-value: 0.485\n",
      "Number of bootstrap means ≥ 8.0 or ≤ -8.0: 633\n",
      "Two-tailed p-value: 0.633\n"
     ]
    }
   ],
   "source": [
    "import numpy as np\n",
    "\n",
    "# Paired data\n",
    "v = [80, 30, 75, 90, 57, 72]\n",
    "nv = [61, 98, 92, 55, 47, 99]\n",
    "\n",
    "# Step 1: Calculate the differences and the observed mean difference\n",
    "pairwise_diff = [nv[i] - v[i] for i in range(len(v))]\n",
    "observed_mean_diff = np.mean(pairwise_diff)\n",
    "diff = observed_mean_diff\n",
    "\n",
    "# Step 2: Bootstrap the differences\n",
    "bootstrap_means = np.empty(1000)\n",
    "for i in range(1000):\n",
    "    # Resample the differences with replacement\n",
    "    resampled_diff = np.random.choice(pairwise_diff, size=len(pairwise_diff), replace=True)\n",
    "    # Calculate the mean of the resampled differences\n",
    "    bootstrap_means[i] = np.mean(resampled_diff)\n",
    "\n",
    "# Step 3: Calculate the p-value\n",
    "# Find the proportion of bootstrap means greater than or equal to the observed mean difference (one tail)\n",
    "p_value = np.sum(bootstrap_means >= observed_mean_diff) / 1000\n",
    "\n",
    "print(\"Observed Mean Difference:\", observed_mean_diff)\n",
    "print(\"P-value:\", p_value)\n",
    "\n",
    "\n",
    "\n",
    "import matplotlib.pyplot as plt\n",
    "\n",
    "# Step 3.1: Draw a histogram of the bootstrap means\n",
    "plt.hist(bootstrap_means, bins=30, edgecolor='black', alpha=0.7)\n",
    "plt.axvline(x=diff, color='red', linestyle='dashed', linewidth=1.5, label=f'Threshold (diff={diff})')\n",
    "plt.title('Histogram of Bootstrap Means')\n",
    "plt.xlabel('Mean Differences')\n",
    "plt.ylabel('Frequency')\n",
    "plt.legend()\n",
    "plt.show()\n",
    "\n",
    "# One-tailed test: Find the number of bootstrap means ≥ diff\n",
    "num_greater_equal_diff = np.sum(bootstrap_means >= diff)\n",
    "p_value_one_tailed = num_greater_equal_diff / len(bootstrap_means)\n",
    "\n",
    "# Two-tailed test: Find the number of bootstrap means ≥ |diff| or ≤ -|diff|\n",
    "num_extreme = np.sum(bootstrap_means >= diff) + np.sum(bootstrap_means <= -diff)\n",
    "p_value_two_tailed = num_extreme / len(bootstrap_means)\n",
    "\n",
    "print(f\"Number of bootstrap means ≥ {diff}: {num_greater_equal_diff}\")\n",
    "print(f\"One-tailed p-value: {p_value_one_tailed}\")\n",
    "print(f\"Number of bootstrap means ≥ {diff} or ≤ -{diff}: {num_extreme}\")\n",
    "print(f\"Two-tailed p-value: {p_value_two_tailed}\")\n"
   ]
  }
 ],
 "metadata": {
  "kernelspec": {
   "display_name": ".venv",
   "language": "python",
   "name": "python3"
  },
  "language_info": {
   "codemirror_mode": {
    "name": "ipython",
    "version": 3
   },
   "file_extension": ".py",
   "mimetype": "text/x-python",
   "name": "python",
   "nbconvert_exporter": "python",
   "pygments_lexer": "ipython3",
   "version": "3.12.3"
  }
 },
 "nbformat": 4,
 "nbformat_minor": 5
}
