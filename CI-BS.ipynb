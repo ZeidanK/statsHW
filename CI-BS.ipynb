{
 "cells": [
  {
   "cell_type": "markdown",
   "id": "1a8936f1",
   "metadata": {},
   "source": [
    "First week python work"
   ]
  },
  {
   "cell_type": "code",
   "execution_count": 120,
   "id": "db75d8e6",
   "metadata": {},
   "outputs": [
    {
     "name": "stdout",
     "output_type": "stream",
     "text": [
      "Avarege of the array:  26.875\n",
      "standard deviation for bootstarp:  6.7315799304008115\n",
      "Confidence level 95%:  13.411840139198377 40.338159860801625\n",
      "Confidence level 99%:  9.534450099287508 44.21554990071249\n",
      "Confidence level 90%:  15.801551014490665 37.94844898550934\n",
      "13.411840139198377 40.338159860801625\n"
     ]
    }
   ],
   "source": [
    "\n",
    "import numpy as np\n",
    "a=[40,35,40,0,0,40,50,10]\n",
    "av = np.average(a)\n",
    "\n",
    "print(\"Avarege of the array: \",av)\n",
    "\n",
    "x=np.empty(1000) #after changing 500 to 1000 the results are more stable\n",
    "for i in range(0,1000): # this loop is building the Bootstrap\n",
    "    y=np.random.choice(a, size=np.size(a))\n",
    "    x[i]=np.average(y)\n",
    "\n",
    "stdx=np.std(x) # standard deviation of the averages of the bootstrap\n",
    "print(\"standard deviation for bootstarp: \",stdx)\n",
    "\n",
    "# for confidence level 95% we can use the following formula\n",
    "# av+-2*stdx\n",
    "#print(\"Confidence level 95%: \")\n",
    "print(\"Confidence level 95%: \", av -2*stdx, av+2*stdx)\n",
    "# for confidence level 99% we can use the following formula\n",
    "# av+-2.576*stdx\n",
    "#print(\"Confidence level 99%: \")\n",
    "print(\"Confidence level 99%: \", av -2.576*stdx, av+2.576*stdx)\n",
    "# for confidence level 90% we can use the following formula\n",
    "# av+-1.645*stdx\n",
    "#print(\"Confidence level 90%: \") \n",
    "print(\"Confidence level 90%: \", av -1.645*stdx, av+1.645*stdx)\n",
    "\n",
    "\n",
    "print(av -2*stdx, av+2*stdx)"
   ]
  },
  {
   "cell_type": "code",
   "execution_count": 121,
   "id": "84c0a7cd",
   "metadata": {},
   "outputs": [
    {
     "name": "stdout",
     "output_type": "stream",
     "text": [
      "Calculated z-scores:\n",
      "95% confidence level: 1.959963984540054\n",
      "99% confidence level: 2.5758293035489004\n",
      "90% confidence level: 1.6448536269514722\n",
      "Confidence level 95%:  13.681345777361766 40.06865422263823\n",
      "Confidence level 99%:  9.535599156091923 44.21440084390808\n",
      "Confidence level 90%:  15.802536336366487 37.94746366363351\n"
     ]
    }
   ],
   "source": [
    "# The number we use to multiply with stdx to get different confidence levels is called the z-score.\n",
    "# The z-score corresponds to the number of standard deviations a data point is from the mean.\n",
    "# For a given confidence level, the z-score can be calculated using the inverse cumulative distribution function (CDF) of the standard normal distribution.\n",
    "# For example:\n",
    "# - For a 95% confidence level, the z-score is approximately 2. This is because 95% of the data lies within 2 standard deviations from the mean in a standard normal distribution.\n",
    "# - For a 99% confidence level, the z-score is approximately 2.576.\n",
    "# - For a 90% confidence level, the z-score is approximately 1.645.\n",
    "# The formula to calculate the z-score for a given confidence level is:\n",
    "# z = norm.ppf((1 + confidence_level) / 2)\n",
    "# where norm.ppf is the percent-point function (inverse of CDF) from the scipy.stats module.\n",
    "\n",
    "import scipy.stats as stats\n",
    "from scipy.stats import norm\n",
    "# Calculate z-scores for different confidence levels\n",
    "z_95 = norm.ppf((1 + 0.95) / 2)  # 95% confidence level\n",
    "z_99 = norm.ppf((1 + 0.99) / 2)  # 99% confidence level\n",
    "z_90 = norm.ppf((1 + 0.90) / 2)  # 90% confidence level\n",
    "\n",
    "print(\"Calculated z-scores:\")\n",
    "print(\"95% confidence level:\", z_95)\n",
    "print(\"99% confidence level:\", z_99)\n",
    "print(\"90% confidence level:\", z_90)\n",
    "\n",
    "# Use the calculated z-scores to compute confidence intervals\n",
    "print(\"Confidence level 95%: \", av - z_95 * stdx, av + z_95 * stdx)\n",
    "print(\"Confidence level 99%: \", av - z_99 * stdx, av + z_99 * stdx)\n",
    "print(\"Confidence level 90%: \", av - z_90 * stdx, av + z_90 * stdx)\n"
   ]
  },
  {
   "cell_type": "code",
   "execution_count": 122,
   "id": "9c03e5f3",
   "metadata": {},
   "outputs": [
    {
     "name": "stdout",
     "output_type": "stream",
     "text": [
      "8.75 42.5\n"
     ]
    }
   ],
   "source": [
    "# calculating the CI (confidence interval) using the percentile method\n",
    "# x is the array of averages\n",
    "# 0.5% and 99.5% percentiles are used to calculate the CI in 99% confidence level\n",
    "# if we want to calculate the CI in 95% confidence level we can use 2.5% and 97.5% percentiles\n",
    "# if we want to calculate the CI in 90% confidence level we can use 5% and 95% percentiles\n",
    "# if we want to calculate the CI in 98% confidence level we can use 1% and 99% percentiles\n",
    "\n",
    "print(np.percentile(x,0.5),np.percentile(x,99.5))"
   ]
  },
  {
   "cell_type": "markdown",
   "id": "2049637f",
   "metadata": {},
   "source": [
    "חשבו את רווח הסמך לטיפים של שימי ברמת בטחון של 68% בשתי השיטות שלמדנו. \n",
    "##video question"
   ]
  },
  {
   "cell_type": "code",
   "execution_count": 123,
   "id": "08ec02f9",
   "metadata": {},
   "outputs": [
    {
     "name": "stdout",
     "output_type": "stream",
     "text": [
      "Confidence level 68%:  20.0 33.75\n",
      "Confidence level 68%:  20.143420069599188 33.60657993040081\n"
     ]
    }
   ],
   "source": [
    "# now we want to calculate the CI in 68% confidence level \n",
    "# using bothe methods percentile and z-score\n",
    "# for 68% confidence level we can use 16% and 84% percentiles\n",
    "print(\"Confidence level 68%: \", np.percentile(x,16),np.percentile(x,84))\n",
    "# for 68% confidence level we can use 1*stdx\n",
    "print(\"Confidence level 68%: \", av - stdx, av + stdx)\n",
    "\n"
   ]
  },
  {
   "cell_type": "markdown",
   "id": "48559206",
   "metadata": {},
   "source": [
    "1)\n",
    "bs.std=6.789\n",
    "\n",
    "X=26.875\n",
    "\n",
    "CI =  𝑥 ± 1 * bs.std (in case of a 68% CI)\n",
    "\n",
    "CI=26.875-6.789,26.875+6.789\n",
    "\n",
    "CI=20.086,33.66\n",
    "\n",
    "\n",
    "using different bootstarp results to calculate the percentile\n",
    "\n",
    "using the percentile method\n",
    "\n",
    "# for 68% confidence level we can use 16% and 84% percentiles\n",
    "print(\"Confidence level 68%: \", np.percentile(x,16),np.percentile(x,84))\n",
    "# for 68% confidence level we can use 1*stdx\n",
    "print(\"Confidence level 68%: \", av - stdx, av + stdx)\n",
    "\n",
    "Confidence level 68%: 20.0 33.75 \n",
    "\n",
    "Confidence level 68%: 20.143420069599188 33.60657993040081\n",
    "\n"
   ]
  },
  {
   "cell_type": "markdown",
   "id": "f458cd46",
   "metadata": {},
   "source": []
  },
  {
   "cell_type": "markdown",
   "id": "8a3c86cc",
   "metadata": {},
   "source": []
  },
  {
   "cell_type": "markdown",
   "id": "aafabbdb",
   "metadata": {},
   "source": [
    "\n",
    "\n",
    "נסו להעזר ב-AI כדי לפתור את שאלת רווח הסמך. באיזה כלי השתמשתם? \n",
    "\n",
    "האם הכלי הצליח ואם לא, מדוע?\n"
   ]
  },
  {
   "cell_type": "markdown",
   "id": "571591a8",
   "metadata": {},
   "source": [
    "using deepseek\n",
    "\n",
    "\n",
    "Method 1: Standard Formula (Mean ± 1×bs.std)\n",
    "\n",
    "This assumes a normal distribution of bootstrap samples.\n",
    "Calculation:\n",
    "CI=Xˉ±1×bs.std\n",
    "CI=Xˉ±1×bs.std\n",
    "Lower bound=26.875−6.789=20.086\n",
    "Lower bound=26.875−6.789=20.086\n",
    "Upper bound=26.875+6.789=33.664\n",
    "Upper bound=26.875+6.789=33.664\n",
    "Result:\n",
    "68% CI=[20.086, 33.664]\n",
    "68% CI=[20.086, 33.664]​\n",
    "Method 2: Percentile Method (16th & 84th Percentiles)\n",
    "\n",
    "This uses the empirical distribution of bootstrap samples (no normality assumption).\n",
    "Key Idea:\n",
    "\n",
    "    A 68% CI in the percentile method corresponds to the 16th and 84th percentiles of the bootstrap distribution (leaving 16% in each tail).\n",
    "\n",
    "Given Code Equivalent:\n",
    "python\n",
    "\n",
    "print(\"Confidence level 68%: \", np.percentile(x, 16), np.percentile(x, 84))\n",
    "\n",
    "Hand Calculation Steps:\n",
    "\n",
    "    Sort all bootstrap sample means in ascending order.\n",
    "\n",
    "    Find the 16th percentile:\n",
    "\n",
    "        Position = 0.16×N0.16×N (where NN = number of bootstrap samples).\n",
    "\n",
    "        If position is not an integer, interpolate between adjacent values.\n",
    "\n",
    "    Find the 84th percentile:\n",
    "\n",
    "        Position = 0.84×N0.84×N.\n",
    "\n",
    "Example (Hypothetical Data):\n",
    "\n",
    "Assume sorted bootstrap means (x):\n",
    "[18.2, 19.5, 20.1, ..., 33.0, 34.5, 35.8]\n",
    "\n",
    "    For N=1000N=1000:\n",
    "\n",
    "        16th percentile = Value at position 0.16×1000=1600.16×1000=160 → 20.1\n",
    "\n",
    "        84th percentile = Value at position 0.84×1000=8400.84×1000=840 → 33.0\n",
    "\n",
    "Result:\n",
    "68% CI (Percentile)=[20.1, 33.0]\n",
    "68% CI (Percentile)=[20.1, 33.0]​\n",
    "\n",
    "(Note: Exact values depend on your bootstrap sample distribution.)\n",
    "\n",
    "\n",
    "\n",
    "\n",
    "----------------------------------------------------------------------------------------------------\n",
    "\n",
    "\n",
    "the ai did the first part correct as it had the values of the video and  bs.std and X  so it was as simple as plugging them into the formula\n",
    "\n",
    "\n",
    "as for the second part in order to use the percentile method it would need the array of all the bootstrap itteration mean but that datawas not availble so it opted to create hypethetical data that resulted in a different answer from what i got when running the bootstarp\n",
    "\n"
   ]
  }
 ],
 "metadata": {
  "kernelspec": {
   "display_name": ".venv",
   "language": "python",
   "name": "python3"
  },
  "language_info": {
   "codemirror_mode": {
    "name": "ipython",
    "version": 3
   },
   "file_extension": ".py",
   "mimetype": "text/x-python",
   "name": "python",
   "nbconvert_exporter": "python",
   "pygments_lexer": "ipython3",
   "version": "3.12.3"
  }
 },
 "nbformat": 4,
 "nbformat_minor": 5
}
